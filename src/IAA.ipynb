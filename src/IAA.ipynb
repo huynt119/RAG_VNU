{
 "cells": [
  {
   "cell_type": "code",
   "execution_count": null,
   "id": "d85a4995",
   "metadata": {},
   "outputs": [
    {
     "name": "stdout",
     "output_type": "stream",
     "text": [
      "Cohen's Kappa score: 0.8465846056315707\n"
     ]
    }
   ],
   "source": [
    "import pandas as pd\n",
    "from sklearn.metrics import cohen_kappa_score\n",
    "\n",
    "labels1 = pd.read_csv(\"./annotate_eval/huy.csv\", header=None)[0]\n",
    "labels2 = pd.read_csv(\"./annotate_eval/hoan.csv\", header=None)[0]\n",
    "\n",
    "kappa = cohen_kappa_score(labels1, labels2)\n",
    "\n",
    "print(\"Cohen's Kappa score:\", kappa)\n"
   ]
  }
 ],
 "metadata": {
  "kernelspec": {
   "display_name": "base",
   "language": "python",
   "name": "python3"
  },
  "language_info": {
   "codemirror_mode": {
    "name": "ipython",
    "version": 3
   },
   "file_extension": ".py",
   "mimetype": "text/x-python",
   "name": "python",
   "nbconvert_exporter": "python",
   "pygments_lexer": "ipython3",
   "version": "3.10.9"
  }
 },
 "nbformat": 4,
 "nbformat_minor": 5
}
